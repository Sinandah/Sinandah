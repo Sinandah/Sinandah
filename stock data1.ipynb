{
  "nbformat": 4,
  "nbformat_minor": 0,
  "metadata": {
    "colab": {
      "provenance": [],
      "authorship_tag": "ABX9TyNrqDgVQXE+sYr+r9FpGcv/",
      "include_colab_link": true
    },
    "kernelspec": {
      "name": "python3",
      "display_name": "Python 3"
    },
    "language_info": {
      "name": "python"
    }
  },
  "cells": [
    {
      "cell_type": "markdown",
      "metadata": {
        "id": "view-in-github",
        "colab_type": "text"
      },
      "source": [
        "<a href=\"https://colab.research.google.com/github/Sinandah/Sinandah/blob/main/stock%20data1.ipynb\" target=\"_parent\"><img src=\"https://colab.research.google.com/assets/colab-badge.svg\" alt=\"Open In Colab\"/></a>"
      ]
    },
    {
      "cell_type": "code",
      "execution_count": 5,
      "metadata": {
        "colab": {
          "base_uri": "https://localhost:8080/"
        },
        "id": "elaQ7tkY5Pze",
        "outputId": "19afbc65-6adc-4b27-9e10-3867d6fdd917"
      },
      "outputs": [
        {
          "output_type": "stream",
          "name": "stdout",
          "text": [
            "Data for AAPL saved to stock_data.csv\n"
          ]
        }
      ],
      "source": [
        "import yfinance as yf\n",
        "import pandas as pd\n",
        "\n",
        "# Define the stock symbol and the date range for data retrieval\n",
        "stock_symbol = \"AAPL\"\n",
        "start_date = \"2023-01-01\"\n",
        "end_date = \"2023-10-01\"\n",
        "\n",
        "# Retrieve stock data from Yahoo Finance\n",
        "ticker = yf.Ticker(stock_symbol)\n",
        "data = ticker.history(start=start_date, end=end_date)\n",
        "\n",
        "# Define the path where you want to save the CSV file\n",
        "csv_file_path = \"stock_data.csv\"\n",
        "\n",
        "# Save the data to a CSV file\n",
        "data.to_csv(csv_file_path)\n",
        "\n",
        "print(f\"Data for {stock_symbol} saved to {csv_file_path}\")\n"
      ]
    },
    {
      "cell_type": "code",
      "source": [
        "import pandas as pd\n",
        "\n",
        "# Define the path to your CSV file\n",
        "csv_file_path = \"stock_data.csv\"\n",
        "\n",
        "# Read the data from the CSV file\n",
        "data = pd.read_csv(csv_file_path)\n",
        "\n",
        "# Check the type of the 'data' variable\n",
        "print(type(data))\n"
      ],
      "metadata": {
        "colab": {
          "base_uri": "https://localhost:8080/"
        },
        "id": "VuH65r045ky_",
        "outputId": "5a1c1599-c218-4e1d-ef44-e052a8c6a8fb"
      },
      "execution_count": 6,
      "outputs": [
        {
          "output_type": "stream",
          "name": "stdout",
          "text": [
            "<class 'pandas.core.frame.DataFrame'>\n"
          ]
        }
      ]
    },
    {
      "cell_type": "code",
      "source": [
        "import pandas as pd\n",
        "\n",
        "# Load your data from the CSV file (replace 'your_data.csv' with the actual file path)\n",
        "data = pd.read_csv('stock_data.csv')\n",
        "\n",
        "# Display basic information about the data\n",
        "print(\"Data Overview:\")\n",
        "print(data.info())\n",
        "\n",
        "# Display summary statistics for numerical columns\n",
        "print(\"\\nSummary Statistics for Numerical Columns:\")\n",
        "print(data.describe())\n",
        "\n",
        "# Display the first few rows of the DataFrame\n",
        "print(\"\\nFirst 5 Rows of the Data:\")\n",
        "print(data.head())\n",
        "\n",
        "# Check for missing values\n",
        "print(\"\\nMissing Values:\")\n",
        "print(data.isnull().sum())\n",
        "\n",
        "# Exploring specific columns\n",
        "print(\"\\nUnique Values in a Categorical Column:\")\n",
        "print(data['Categorical_Column'].unique())\n",
        "\n",
        "# Plot histograms for numerical columns\n",
        "import matplotlib.pyplot as plt\n",
        "data.hist(figsize=(10, 8))\n",
        "plt.show()\n",
        "import pandas as pd\n",
        "\n",
        "# Load your data from the CSV file (replace 'your_data.csv' with the actual file path)\n",
        "data = pd.read_csv('stock_data.csv')\n",
        "\n",
        "# Display basic information about the data\n",
        "print(\"Data Overview:\")\n",
        "print(data.info())\n",
        "\n",
        "# Display summary statistics for numerical columns\n",
        "print(\"\\nSummary Statistics for Numerical Columns:\")\n",
        "print(data.describe())\n",
        "\n",
        "# Display the first few rows of the DataFrame\n",
        "print(\"\\nFirst 5 Rows of the Data:\")\n",
        "print(data.head())\n",
        "\n",
        "# Check for missing values\n",
        "print(\"\\nMissing Values:\")\n",
        "print(data.isnull().sum())\n",
        "\n",
        "# Exploring specific columns\n",
        "print(\"\\nUnique Values in a Categorical Column:\")\n",
        "print(data['Categorical_Column'].unique())\n",
        "\n",
        "# Plot histograms for numerical columns\n",
        "import matplotlib.pyplot as plt\n",
        "data.hist(figsize=(10, 8))\n",
        "plt.show()\n"
      ],
      "metadata": {
        "colab": {
          "base_uri": "https://localhost:8080/",
          "height": 1000
        },
        "id": "5HNh3aP35yDT",
        "outputId": "e25d119b-4cfd-4169-e607-ca99982fced5"
      },
      "execution_count": 7,
      "outputs": [
        {
          "output_type": "stream",
          "name": "stdout",
          "text": [
            "Data Overview:\n",
            "<class 'pandas.core.frame.DataFrame'>\n",
            "RangeIndex: 187 entries, 0 to 186\n",
            "Data columns (total 8 columns):\n",
            " #   Column        Non-Null Count  Dtype  \n",
            "---  ------        --------------  -----  \n",
            " 0   Date          187 non-null    object \n",
            " 1   Open          187 non-null    float64\n",
            " 2   High          187 non-null    float64\n",
            " 3   Low           187 non-null    float64\n",
            " 4   Close         187 non-null    float64\n",
            " 5   Volume        187 non-null    int64  \n",
            " 6   Dividends     187 non-null    float64\n",
            " 7   Stock Splits  187 non-null    float64\n",
            "dtypes: float64(6), int64(1), object(1)\n",
            "memory usage: 11.8+ KB\n",
            "None\n",
            "\n",
            "Summary Statistics for Numerical Columns:\n",
            "             Open        High         Low       Close        Volume  \\\n",
            "count  187.000000  187.000000  187.000000  187.000000  1.870000e+02   \n",
            "mean   167.923942  169.559355  166.604586  168.160471  6.133250e+07   \n",
            "std     17.942859   17.704137   17.917423   17.700406  1.829274e+07   \n",
            "min    125.474679  127.227186  123.642480  124.488869  3.145820e+07   \n",
            "25%    153.133895  155.474709  151.321072  153.636971  4.912860e+07   \n",
            "50%    172.300003  173.146197  171.131888  171.960007  5.629440e+07   \n",
            "75%    180.727935  181.767126  178.440002  180.516235  6.772255e+07   \n",
            "max    195.975362  197.962667  195.016650  196.185074  1.543573e+08   \n",
            "\n",
            "        Dividends  Stock Splits  \n",
            "count  187.000000         187.0  \n",
            "mean     0.003797           0.0  \n",
            "std      0.029821           0.0  \n",
            "min      0.000000           0.0  \n",
            "25%      0.000000           0.0  \n",
            "50%      0.000000           0.0  \n",
            "75%      0.000000           0.0  \n",
            "max      0.240000           0.0  \n",
            "\n",
            "First 5 Rows of the Data:\n",
            "                        Date        Open        High         Low       Close  \\\n",
            "0  2023-01-03 00:00:00-05:00  129.726523  130.343884  123.642480  124.538658   \n",
            "1  2023-01-04 00:00:00-05:00  126.350936  128.113421  124.548628  125.823189   \n",
            "2  2023-01-05 00:00:00-05:00  126.589905  127.227186  124.229979  124.488869   \n",
            "3  2023-01-06 00:00:00-05:00  125.474679  129.736488  124.359434  129.069336   \n",
            "4  2023-01-09 00:00:00-05:00  129.915724  132.843237  129.338186  129.597076   \n",
            "\n",
            "      Volume  Dividends  Stock Splits  \n",
            "0  112117500        0.0           0.0  \n",
            "1   89113600        0.0           0.0  \n",
            "2   80962700        0.0           0.0  \n",
            "3   87754700        0.0           0.0  \n",
            "4   70790800        0.0           0.0  \n",
            "\n",
            "Missing Values:\n",
            "Date            0\n",
            "Open            0\n",
            "High            0\n",
            "Low             0\n",
            "Close           0\n",
            "Volume          0\n",
            "Dividends       0\n",
            "Stock Splits    0\n",
            "dtype: int64\n",
            "\n",
            "Unique Values in a Categorical Column:\n"
          ]
        },
        {
          "output_type": "error",
          "ename": "KeyError",
          "evalue": "ignored",
          "traceback": [
            "\u001b[0;31m---------------------------------------------------------------------------\u001b[0m",
            "\u001b[0;31mKeyError\u001b[0m                                  Traceback (most recent call last)",
            "\u001b[0;32m/usr/local/lib/python3.10/dist-packages/pandas/core/indexes/base.py\u001b[0m in \u001b[0;36mget_loc\u001b[0;34m(self, key, method, tolerance)\u001b[0m\n\u001b[1;32m   3801\u001b[0m             \u001b[0;32mtry\u001b[0m\u001b[0;34m:\u001b[0m\u001b[0;34m\u001b[0m\u001b[0;34m\u001b[0m\u001b[0m\n\u001b[0;32m-> 3802\u001b[0;31m                 \u001b[0;32mreturn\u001b[0m \u001b[0mself\u001b[0m\u001b[0;34m.\u001b[0m\u001b[0m_engine\u001b[0m\u001b[0;34m.\u001b[0m\u001b[0mget_loc\u001b[0m\u001b[0;34m(\u001b[0m\u001b[0mcasted_key\u001b[0m\u001b[0;34m)\u001b[0m\u001b[0;34m\u001b[0m\u001b[0;34m\u001b[0m\u001b[0m\n\u001b[0m\u001b[1;32m   3803\u001b[0m             \u001b[0;32mexcept\u001b[0m \u001b[0mKeyError\u001b[0m \u001b[0;32mas\u001b[0m \u001b[0merr\u001b[0m\u001b[0;34m:\u001b[0m\u001b[0;34m\u001b[0m\u001b[0;34m\u001b[0m\u001b[0m\n",
            "\u001b[0;32m/usr/local/lib/python3.10/dist-packages/pandas/_libs/index.pyx\u001b[0m in \u001b[0;36mpandas._libs.index.IndexEngine.get_loc\u001b[0;34m()\u001b[0m\n",
            "\u001b[0;32m/usr/local/lib/python3.10/dist-packages/pandas/_libs/index.pyx\u001b[0m in \u001b[0;36mpandas._libs.index.IndexEngine.get_loc\u001b[0;34m()\u001b[0m\n",
            "\u001b[0;32mpandas/_libs/hashtable_class_helper.pxi\u001b[0m in \u001b[0;36mpandas._libs.hashtable.PyObjectHashTable.get_item\u001b[0;34m()\u001b[0m\n",
            "\u001b[0;32mpandas/_libs/hashtable_class_helper.pxi\u001b[0m in \u001b[0;36mpandas._libs.hashtable.PyObjectHashTable.get_item\u001b[0;34m()\u001b[0m\n",
            "\u001b[0;31mKeyError\u001b[0m: 'Categorical_Column'",
            "\nThe above exception was the direct cause of the following exception:\n",
            "\u001b[0;31mKeyError\u001b[0m                                  Traceback (most recent call last)",
            "\u001b[0;32m<ipython-input-7-0c37a6c37755>\u001b[0m in \u001b[0;36m<cell line: 24>\u001b[0;34m()\u001b[0m\n\u001b[1;32m     22\u001b[0m \u001b[0;31m# Exploring specific columns\u001b[0m\u001b[0;34m\u001b[0m\u001b[0;34m\u001b[0m\u001b[0m\n\u001b[1;32m     23\u001b[0m \u001b[0mprint\u001b[0m\u001b[0;34m(\u001b[0m\u001b[0;34m\"\\nUnique Values in a Categorical Column:\"\u001b[0m\u001b[0;34m)\u001b[0m\u001b[0;34m\u001b[0m\u001b[0;34m\u001b[0m\u001b[0m\n\u001b[0;32m---> 24\u001b[0;31m \u001b[0mprint\u001b[0m\u001b[0;34m(\u001b[0m\u001b[0mdata\u001b[0m\u001b[0;34m[\u001b[0m\u001b[0;34m'Categorical_Column'\u001b[0m\u001b[0;34m]\u001b[0m\u001b[0;34m.\u001b[0m\u001b[0munique\u001b[0m\u001b[0;34m(\u001b[0m\u001b[0;34m)\u001b[0m\u001b[0;34m)\u001b[0m\u001b[0;34m\u001b[0m\u001b[0;34m\u001b[0m\u001b[0m\n\u001b[0m\u001b[1;32m     25\u001b[0m \u001b[0;34m\u001b[0m\u001b[0m\n\u001b[1;32m     26\u001b[0m \u001b[0;31m# Plot histograms for numerical columns\u001b[0m\u001b[0;34m\u001b[0m\u001b[0;34m\u001b[0m\u001b[0m\n",
            "\u001b[0;32m/usr/local/lib/python3.10/dist-packages/pandas/core/frame.py\u001b[0m in \u001b[0;36m__getitem__\u001b[0;34m(self, key)\u001b[0m\n\u001b[1;32m   3805\u001b[0m             \u001b[0;32mif\u001b[0m \u001b[0mself\u001b[0m\u001b[0;34m.\u001b[0m\u001b[0mcolumns\u001b[0m\u001b[0;34m.\u001b[0m\u001b[0mnlevels\u001b[0m \u001b[0;34m>\u001b[0m \u001b[0;36m1\u001b[0m\u001b[0;34m:\u001b[0m\u001b[0;34m\u001b[0m\u001b[0;34m\u001b[0m\u001b[0m\n\u001b[1;32m   3806\u001b[0m                 \u001b[0;32mreturn\u001b[0m \u001b[0mself\u001b[0m\u001b[0;34m.\u001b[0m\u001b[0m_getitem_multilevel\u001b[0m\u001b[0;34m(\u001b[0m\u001b[0mkey\u001b[0m\u001b[0;34m)\u001b[0m\u001b[0;34m\u001b[0m\u001b[0;34m\u001b[0m\u001b[0m\n\u001b[0;32m-> 3807\u001b[0;31m             \u001b[0mindexer\u001b[0m \u001b[0;34m=\u001b[0m \u001b[0mself\u001b[0m\u001b[0;34m.\u001b[0m\u001b[0mcolumns\u001b[0m\u001b[0;34m.\u001b[0m\u001b[0mget_loc\u001b[0m\u001b[0;34m(\u001b[0m\u001b[0mkey\u001b[0m\u001b[0;34m)\u001b[0m\u001b[0;34m\u001b[0m\u001b[0;34m\u001b[0m\u001b[0m\n\u001b[0m\u001b[1;32m   3808\u001b[0m             \u001b[0;32mif\u001b[0m \u001b[0mis_integer\u001b[0m\u001b[0;34m(\u001b[0m\u001b[0mindexer\u001b[0m\u001b[0;34m)\u001b[0m\u001b[0;34m:\u001b[0m\u001b[0;34m\u001b[0m\u001b[0;34m\u001b[0m\u001b[0m\n\u001b[1;32m   3809\u001b[0m                 \u001b[0mindexer\u001b[0m \u001b[0;34m=\u001b[0m \u001b[0;34m[\u001b[0m\u001b[0mindexer\u001b[0m\u001b[0;34m]\u001b[0m\u001b[0;34m\u001b[0m\u001b[0;34m\u001b[0m\u001b[0m\n",
            "\u001b[0;32m/usr/local/lib/python3.10/dist-packages/pandas/core/indexes/base.py\u001b[0m in \u001b[0;36mget_loc\u001b[0;34m(self, key, method, tolerance)\u001b[0m\n\u001b[1;32m   3802\u001b[0m                 \u001b[0;32mreturn\u001b[0m \u001b[0mself\u001b[0m\u001b[0;34m.\u001b[0m\u001b[0m_engine\u001b[0m\u001b[0;34m.\u001b[0m\u001b[0mget_loc\u001b[0m\u001b[0;34m(\u001b[0m\u001b[0mcasted_key\u001b[0m\u001b[0;34m)\u001b[0m\u001b[0;34m\u001b[0m\u001b[0;34m\u001b[0m\u001b[0m\n\u001b[1;32m   3803\u001b[0m             \u001b[0;32mexcept\u001b[0m \u001b[0mKeyError\u001b[0m \u001b[0;32mas\u001b[0m \u001b[0merr\u001b[0m\u001b[0;34m:\u001b[0m\u001b[0;34m\u001b[0m\u001b[0;34m\u001b[0m\u001b[0m\n\u001b[0;32m-> 3804\u001b[0;31m                 \u001b[0;32mraise\u001b[0m \u001b[0mKeyError\u001b[0m\u001b[0;34m(\u001b[0m\u001b[0mkey\u001b[0m\u001b[0;34m)\u001b[0m \u001b[0;32mfrom\u001b[0m \u001b[0merr\u001b[0m\u001b[0;34m\u001b[0m\u001b[0;34m\u001b[0m\u001b[0m\n\u001b[0m\u001b[1;32m   3805\u001b[0m             \u001b[0;32mexcept\u001b[0m \u001b[0mTypeError\u001b[0m\u001b[0;34m:\u001b[0m\u001b[0;34m\u001b[0m\u001b[0;34m\u001b[0m\u001b[0m\n\u001b[1;32m   3806\u001b[0m                 \u001b[0;31m# If we have a listlike key, _check_indexing_error will raise\u001b[0m\u001b[0;34m\u001b[0m\u001b[0;34m\u001b[0m\u001b[0m\n",
            "\u001b[0;31mKeyError\u001b[0m: 'Categorical_Column'"
          ]
        }
      ]
    }
  ]
}